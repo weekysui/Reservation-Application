{
 "cells": [
  {
   "cell_type": "code",
   "execution_count": 53,
   "metadata": {},
   "outputs": [],
   "source": [
    "import getpass\n",
    "from enum import Enum\n",
    "import pandas as pd\n",
    "import datetime"
   ]
  },
  {
   "cell_type": "code",
   "execution_count": 54,
   "metadata": {},
   "outputs": [
    {
     "data": {
      "text/html": [
       "<div>\n",
       "<style scoped>\n",
       "    .dataframe tbody tr th:only-of-type {\n",
       "        vertical-align: middle;\n",
       "    }\n",
       "\n",
       "    .dataframe tbody tr th {\n",
       "        vertical-align: top;\n",
       "    }\n",
       "\n",
       "    .dataframe thead th {\n",
       "        text-align: right;\n",
       "    }\n",
       "</style>\n",
       "<table border=\"1\" class=\"dataframe\">\n",
       "  <thead>\n",
       "    <tr style=\"text-align: right;\">\n",
       "      <th></th>\n",
       "      <th>id</th>\n",
       "      <th>first_name</th>\n",
       "      <th>last_name</th>\n",
       "      <th>start_date</th>\n",
       "      <th>end_date</th>\n",
       "    </tr>\n",
       "  </thead>\n",
       "  <tbody>\n",
       "    <tr>\n",
       "      <td>0</td>\n",
       "      <td>1</td>\n",
       "      <td>Colman</td>\n",
       "      <td>Strickland</td>\n",
       "      <td>3/16/2020</td>\n",
       "      <td>3/24/2020</td>\n",
       "    </tr>\n",
       "    <tr>\n",
       "      <td>1</td>\n",
       "      <td>2</td>\n",
       "      <td>Karrah</td>\n",
       "      <td>Castard</td>\n",
       "      <td>3/20/2020</td>\n",
       "      <td>3/21/2020</td>\n",
       "    </tr>\n",
       "    <tr>\n",
       "      <td>2</td>\n",
       "      <td>3</td>\n",
       "      <td>Brannon</td>\n",
       "      <td>Dewhirst</td>\n",
       "      <td>3/13/2020</td>\n",
       "      <td>3/15/2020</td>\n",
       "    </tr>\n",
       "    <tr>\n",
       "      <td>3</td>\n",
       "      <td>4</td>\n",
       "      <td>Dionne</td>\n",
       "      <td>Morland</td>\n",
       "      <td>3/23/2020</td>\n",
       "      <td>3/27/2020</td>\n",
       "    </tr>\n",
       "    <tr>\n",
       "      <td>4</td>\n",
       "      <td>5</td>\n",
       "      <td>Madelaine</td>\n",
       "      <td>Spinas</td>\n",
       "      <td>3/11/2020</td>\n",
       "      <td>3/13/2020</td>\n",
       "    </tr>\n",
       "  </tbody>\n",
       "</table>\n",
       "</div>"
      ],
      "text/plain": [
       "   id first_name   last_name start_date   end_date\n",
       "0   1     Colman  Strickland  3/16/2020  3/24/2020\n",
       "1   2     Karrah     Castard  3/20/2020  3/21/2020\n",
       "2   3    Brannon    Dewhirst  3/13/2020  3/15/2020\n",
       "3   4     Dionne     Morland  3/23/2020  3/27/2020\n",
       "4   5  Madelaine      Spinas  3/11/2020  3/13/2020"
      ]
     },
     "execution_count": 54,
     "metadata": {},
     "output_type": "execute_result"
    }
   ],
   "source": [
    "clientdf = pd.read_csv('MOCK_DATA.csv')\n",
    "clientdf.head(5)\n",
    "clientdf = clientdf.reset_index(drop=True)\n",
    "clientdf.head(5)"
   ]
  },
  {
   "cell_type": "code",
   "execution_count": 42,
   "metadata": {},
   "outputs": [
    {
     "data": {
      "text/plain": [
       "[1, 2, 3, 4, 5, 6, 7, 8, 9, 10]"
      ]
     },
     "execution_count": 42,
     "metadata": {},
     "output_type": "execute_result"
    }
   ],
   "source": [
    "# clientDict = clientdf.to_dict('split')\n",
    "# clientDict = clientdf.to_dict()\n",
    "# clientID = list(clientDict['id'].values())\n",
    "# clientID"
   ]
  },
  {
   "cell_type": "code",
   "execution_count": 55,
   "metadata": {},
   "outputs": [
    {
     "data": {
      "text/html": [
       "<div>\n",
       "<style scoped>\n",
       "    .dataframe tbody tr th:only-of-type {\n",
       "        vertical-align: middle;\n",
       "    }\n",
       "\n",
       "    .dataframe tbody tr th {\n",
       "        vertical-align: top;\n",
       "    }\n",
       "\n",
       "    .dataframe thead th {\n",
       "        text-align: right;\n",
       "    }\n",
       "</style>\n",
       "<table border=\"1\" class=\"dataframe\">\n",
       "  <thead>\n",
       "    <tr style=\"text-align: right;\">\n",
       "      <th></th>\n",
       "      <th>id</th>\n",
       "      <th>first_name</th>\n",
       "      <th>last_name</th>\n",
       "      <th>service</th>\n",
       "      <th>date</th>\n",
       "      <th>start_time</th>\n",
       "      <th>end_time</th>\n",
       "      <th>duration</th>\n",
       "      <th>confirmation</th>\n",
       "    </tr>\n",
       "  </thead>\n",
       "  <tbody>\n",
       "    <tr>\n",
       "      <td>0</td>\n",
       "      <td>1</td>\n",
       "      <td>Colman</td>\n",
       "      <td>Strickland</td>\n",
       "      <td>facial</td>\n",
       "      <td>3/17/2020</td>\n",
       "      <td>8:00 AM</td>\n",
       "      <td>8:30 AM</td>\n",
       "      <td>12:30 AM</td>\n",
       "      <td>13178facial</td>\n",
       "    </tr>\n",
       "  </tbody>\n",
       "</table>\n",
       "</div>"
      ],
      "text/plain": [
       "   id first_name   last_name service       date start_time end_time  duration  \\\n",
       "0   1     Colman  Strickland  facial  3/17/2020    8:00 AM  8:30 AM  12:30 AM   \n",
       "\n",
       "  confirmation  \n",
       "0  13178facial  "
      ]
     },
     "execution_count": 55,
     "metadata": {},
     "output_type": "execute_result"
    }
   ],
   "source": [
    "servicedf = pd.read_csv('service.csv')\n",
    "servicedf.head()"
   ]
  },
  {
   "cell_type": "code",
   "execution_count": 56,
   "metadata": {},
   "outputs": [],
   "source": [
    "class MenuOption(Enum):\n",
    "    \"\"\"\n",
    "    assign number to different layers of menu, easier for later modification.\n",
    "    \"\"\"\n",
    "    mainMenu = 1\n",
    "    facial = 2\n",
    "    massage = 3\n",
    "    miner = 4\n",
    "    specilty = 5\n",
    "    lookUp = 6\n",
    "    maintenance = 7\n",
    "    signOut = 8"
   ]
  },
  {
   "cell_type": "code",
   "execution_count": 57,
   "metadata": {},
   "outputs": [],
   "source": [
    "class Mainmenu(object):\n",
    "    def __init__(self):\n",
    "        self.main_menu = {\n",
    "            1: 'Facial Scheduling',\n",
    "            2: 'Massage Scheduling',\n",
    "            3: 'Mineral Bath Scheduling',\n",
    "            4: 'Specialty Treatment Scheduling',\n",
    "            5: 'Look Up or Edit an Appointment',\n",
    "            6: 'Perform Maintenance',\n",
    "            7: 'Sign Out or Quit'\n",
    "        }\n",
    "        self.facial = {\n",
    "            1: '30min',\n",
    "            2: '60min'\n",
    "        }  \n",
    "    def printOption(self,option=MenuOption.mainMenu.value):\n",
    "        if option == MenuOption.mainMenu.value:\n",
    "            print(\"Main Menu\")\n",
    "            print()\n",
    "            for i in self.main_menu:\n",
    "                print(i,self.main_menu[i])\n",
    "            print()\n",
    "        elif option == MenuOption.facial.value:\n",
    "            print(\"Facial Scheduling\")\n",
    "            print()\n",
    "            for i in self.facial:\n",
    "                print(i,self.facial[i])\n",
    "            print()\n",
    "    "
   ]
  },
  {
   "cell_type": "code",
   "execution_count": 59,
   "metadata": {},
   "outputs": [],
   "source": [
    "class Login(object):\n",
    "    def __init__(self):\n",
    "        self.password = None\n",
    "        self.userChoice = None\n",
    "    def logIn(self):\n",
    "        # username = input('Username: ')\n",
    "        # getpass library hides the password\n",
    "        print('Please type your password below then press ENTER or RETURN.')\n",
    "        self.password = getpass.getpass('Password: ') \n",
    "        if self.password == 'admin':\n",
    "            main = Mainmenu()\n",
    "            main.printOption()\n",
    "            self.userChoice = input(\"Type the number of the option you want, then press ENTER or RETURN.\")\n",
    "            response = True\n",
    "            while response:\n",
    "                if self.userChoice=='1':  \n",
    "                    main.printOption(2)   # printout facial menu, 2 is number in MenuOption\n",
    "                    facial = Reservation()\n",
    "                    _min = input(\"Type the number of the option you want, then press ENTER or RETURN.\")\n",
    "                    facial.facial('facial',_min)\n",
    "                    response = False\n",
    "                elif self.userChoice=='7':\n",
    "                    print(\"You are signing out the program\")\n",
    "                    self.logIn()\n",
    "                    response = False\n",
    "                else:\n",
    "                    print( \"Sorry, that is not a recognized command. Please type the number for one of the above options and press ENTER or RETURN.\")\n",
    "                    main.printOption()\n",
    "                    self.userChoice = input(\"Type the number of the option you want, then press ENTER or RETURN.\")\n",
    "                    response = True\n",
    "\n",
    "        else:\n",
    "            print(\"Sorry, but that password is not recognized. Please try again.\")\n",
    "            self.logIn()"
   ]
  },
  {
   "cell_type": "code",
   "execution_count": 44,
   "metadata": {},
   "outputs": [],
   "source": [
    "class ServiceTime(Enum):\n",
    "    \"\"\"\n",
    "    assign number to different layers of menu, easier for later modification.\n",
    "    \"\"\"\n",
    "    _30min = 30\n",
    "    _60min = 60\n",
    "    _90min = 90"
   ]
  },
  {
   "cell_type": "code",
   "execution_count": 79,
   "metadata": {},
   "outputs": [],
   "source": [
    "class Reservation(object):\n",
    "    def __init__(self):\n",
    "        pass\n",
    "    def facial(self,service,option):\n",
    "        self.client = int(input(\"What is your client ID?\"))\n",
    "        if self.client in clientdf['id']:\n",
    "            self.response = True\n",
    "            while self.response:\n",
    "                self.startTime = input(\"What is the start time?\")\n",
    "                if self.startTime in servicedf['start_time']:\n",
    "                    print('sorry this time is not available, please choose another time')\n",
    "                    self.response = True\n",
    "                else:\n",
    "                    df = servicedf.append({\n",
    "                        'id':self.client,\n",
    "                        'start_time': self.startTime,\n",
    "                        'duration': option,\n",
    "                        'service': service\n",
    "                    }, ignore_index=True)\n",
    "                    \n",
    "                    self.response = False\n",
    "        else:\n",
    "            print('not in the db')\n",
    "\n",
    "        "
   ]
  },
  {
   "cell_type": "code",
   "execution_count": 50,
   "metadata": {},
   "outputs": [],
   "source": [
    "# class ClientInfo(object):\n",
    "#     def __init__(self):\n",
    "#         pass\n",
    "#     def client(self,option):\n",
    "#         client = input(\"What is your client ID?\")\n",
    "#         if client in clientdf['id']:\n",
    "#             response = True\n",
    "#             while response:\n",
    "#                 startTime = input(\"What is the start time?\")\n",
    "#                 if startTime in servicedf['start_time']:\n",
    "#                     print('sorry this time is not available, please choose another time')\n",
    "#                     response = True\n",
    "#                 else:\n",
    "#                     servicedf['id'] = client\n",
    "#                     servicedf['start_time'] = startTime\n",
    "#                     servicedf['end_time']= date\n",
    "#                     servicedf['duration']=option\n",
    "                    \n",
    "            "
   ]
  },
  {
   "cell_type": "code",
   "execution_count": 80,
   "metadata": {},
   "outputs": [
    {
     "name": "stdout",
     "output_type": "stream",
     "text": [
      "Please type your password below then press ENTER or RETURN.\n",
      "Password: ········\n",
      "Main Menu\n",
      "\n",
      "1 Facial Scheduling\n",
      "2 Massage Scheduling\n",
      "3 Mineral Bath Scheduling\n",
      "4 Specialty Treatment Scheduling\n",
      "5 Look Up or Edit an Appointment\n",
      "6 Perform Maintenance\n",
      "7 Sign Out or Quit\n",
      "\n",
      "Type the number of the option you want, then press ENTER or RETURN.1\n",
      "Facial Scheduling\n",
      "\n",
      "1 30min\n",
      "2 60min\n",
      "\n",
      "Type the number of the option you want, then press ENTER or RETURN.1\n",
      "What is your client ID?2\n",
      "What is the start time?9:00\n"
     ]
    }
   ],
   "source": [
    "login = Login()\n",
    "login.logIn()"
   ]
  },
  {
   "cell_type": "code",
   "execution_count": 81,
   "metadata": {},
   "outputs": [
    {
     "ename": "NameError",
     "evalue": "name 'df' is not defined",
     "output_type": "error",
     "traceback": [
      "\u001b[1;31m---------------------------------------------------------------------------\u001b[0m",
      "\u001b[1;31mNameError\u001b[0m                                 Traceback (most recent call last)",
      "\u001b[1;32m<ipython-input-81-c42a15b2c7cf>\u001b[0m in \u001b[0;36m<module>\u001b[1;34m\u001b[0m\n\u001b[1;32m----> 1\u001b[1;33m \u001b[0mdf\u001b[0m\u001b[1;33m.\u001b[0m\u001b[0mhead\u001b[0m\u001b[1;33m(\u001b[0m\u001b[1;33m)\u001b[0m\u001b[1;33m\u001b[0m\u001b[1;33m\u001b[0m\u001b[0m\n\u001b[0m",
      "\u001b[1;31mNameError\u001b[0m: name 'df' is not defined"
     ]
    }
   ],
   "source": [
    "df.head()"
   ]
  },
  {
   "cell_type": "code",
   "execution_count": null,
   "metadata": {},
   "outputs": [],
   "source": []
  }
 ],
 "metadata": {
  "kernelspec": {
   "display_name": "Python 3",
   "language": "python",
   "name": "python3"
  },
  "language_info": {
   "codemirror_mode": {
    "name": "ipython",
    "version": 3
   },
   "file_extension": ".py",
   "mimetype": "text/x-python",
   "name": "python",
   "nbconvert_exporter": "python",
   "pygments_lexer": "ipython3",
   "version": "3.7.4"
  }
 },
 "nbformat": 4,
 "nbformat_minor": 2
}
